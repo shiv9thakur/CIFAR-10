{
  "nbformat": 4,
  "nbformat_minor": 0,
  "metadata": {
    "colab": {
      "name": "Image classification using CNN.ipynb",
      "provenance": [],
      "collapsed_sections": [
        "qCwgw_t5xqZ1"
      ],
      "authorship_tag": "ABX9TyNParWzghJ/fTlhCxHakLuD",
      "include_colab_link": true
    },
    "kernelspec": {
      "name": "python3",
      "display_name": "Python 3"
    },
    "language_info": {
      "name": "python"
    }
  },
  "cells": [
    {
      "cell_type": "markdown",
      "metadata": {
        "id": "view-in-github",
        "colab_type": "text"
      },
      "source": [
        "<a href=\"https://colab.research.google.com/github/shiv9thakur/CIFAR-10/blob/main/Image_classification_using_CNN.ipynb\" target=\"_parent\"><img src=\"https://colab.research.google.com/assets/colab-badge.svg\" alt=\"Open In Colab\"/></a>"
      ]
    },
    {
      "cell_type": "markdown",
      "source": [
        "# CIFAR-10\n",
        "\n",
        "This is an attempt to apply image classification on cifar-10 dataset using CNN with tensorflow."
      ],
      "metadata": {
        "id": "b9-b1taWa3CU"
      }
    },
    {
      "cell_type": "markdown",
      "source": [
        "## Importing data and Necessary library"
      ],
      "metadata": {
        "id": "SNXggd9wbZ5I"
      }
    },
    {
      "cell_type": "code",
      "execution_count": null,
      "metadata": {
        "id": "JDwO3R-3uHD4"
      },
      "outputs": [],
      "source": [
        "import tensorflow as tf\n",
        "from tensorflow.keras import datasets, layers, models\n",
        "import matplotlib.pyplot as plt\n",
        "import numpy as np"
      ]
    },
    {
      "cell_type": "code",
      "source": [
        "(X_train, y_train), (X_test, y_test) = datasets.cifar10.load_data()"
      ],
      "metadata": {
        "id": "2T6UBHZUuhs-"
      },
      "execution_count": null,
      "outputs": []
    },
    {
      "cell_type": "code",
      "source": [
        "X_train.shape"
      ],
      "metadata": {
        "colab": {
          "base_uri": "https://localhost:8080/"
        },
        "id": "1LIx1KJpuzpn",
        "outputId": "081a39e5-f7b1-4dee-bbf3-d79441b4ca2c"
      },
      "execution_count": null,
      "outputs": [
        {
          "output_type": "execute_result",
          "data": {
            "text/plain": [
              "(50000, 32, 32, 3)"
            ]
          },
          "metadata": {},
          "execution_count": 21
        }
      ]
    },
    {
      "cell_type": "code",
      "source": [
        "X_train[0]"
      ],
      "metadata": {
        "colab": {
          "base_uri": "https://localhost:8080/"
        },
        "id": "_2-S7504u2XN",
        "outputId": "aa9bac17-61df-48ae-c603-44b06556a4ae"
      },
      "execution_count": null,
      "outputs": [
        {
          "output_type": "execute_result",
          "data": {
            "text/plain": [
              "array([[[ 59,  62,  63],\n",
              "        [ 43,  46,  45],\n",
              "        [ 50,  48,  43],\n",
              "        ...,\n",
              "        [158, 132, 108],\n",
              "        [152, 125, 102],\n",
              "        [148, 124, 103]],\n",
              "\n",
              "       [[ 16,  20,  20],\n",
              "        [  0,   0,   0],\n",
              "        [ 18,   8,   0],\n",
              "        ...,\n",
              "        [123,  88,  55],\n",
              "        [119,  83,  50],\n",
              "        [122,  87,  57]],\n",
              "\n",
              "       [[ 25,  24,  21],\n",
              "        [ 16,   7,   0],\n",
              "        [ 49,  27,   8],\n",
              "        ...,\n",
              "        [118,  84,  50],\n",
              "        [120,  84,  50],\n",
              "        [109,  73,  42]],\n",
              "\n",
              "       ...,\n",
              "\n",
              "       [[208, 170,  96],\n",
              "        [201, 153,  34],\n",
              "        [198, 161,  26],\n",
              "        ...,\n",
              "        [160, 133,  70],\n",
              "        [ 56,  31,   7],\n",
              "        [ 53,  34,  20]],\n",
              "\n",
              "       [[180, 139,  96],\n",
              "        [173, 123,  42],\n",
              "        [186, 144,  30],\n",
              "        ...,\n",
              "        [184, 148,  94],\n",
              "        [ 97,  62,  34],\n",
              "        [ 83,  53,  34]],\n",
              "\n",
              "       [[177, 144, 116],\n",
              "        [168, 129,  94],\n",
              "        [179, 142,  87],\n",
              "        ...,\n",
              "        [216, 184, 140],\n",
              "        [151, 118,  84],\n",
              "        [123,  92,  72]]], dtype=uint8)"
            ]
          },
          "metadata": {},
          "execution_count": 22
        }
      ]
    },
    {
      "cell_type": "code",
      "source": [
        "plt.imshow(X_train[1])"
      ],
      "metadata": {
        "colab": {
          "base_uri": "https://localhost:8080/",
          "height": 283
        },
        "id": "SIBs3eSSu_TP",
        "outputId": "3795aab5-9862-4d99-ad2d-ff4caa036038"
      },
      "execution_count": null,
      "outputs": [
        {
          "output_type": "execute_result",
          "data": {
            "text/plain": [
              "<matplotlib.image.AxesImage at 0x7f16b9f3ef50>"
            ]
          },
          "metadata": {},
          "execution_count": 23
        },
        {
          "output_type": "display_data",
          "data": {
            "image/png": "[encoded data removed]",
            "text/plain": [
              "<Figure size 432x288 with 1 Axes>"
            ]
          },
          "metadata": {
            "needs_background": "light"
          }
        }
      ]
    },
    {
      "cell_type": "markdown",
      "source": [
        "## Data cleaning"
      ],
      "metadata": {
        "id": "VlUktDQAbpik"
      }
    },
    {
      "cell_type": "code",
      "source": [
        "y_train = y_train.reshape(-1,) #Changing to 1d array\n",
        "y_train[:5]"
      ],
      "metadata": {
        "colab": {
          "base_uri": "https://localhost:8080/"
        },
        "id": "BIy9iZClwEj4",
        "outputId": "2ea43661-a62d-4592-dccc-303987bf3abe"
      },
      "execution_count": null,
      "outputs": [
        {
          "output_type": "execute_result",
          "data": {
            "text/plain": [
              "array([6, 9, 9, 4, 1], dtype=uint8)"
            ]
          },
          "metadata": {},
          "execution_count": 24
        }
      ]
    },
    {
      "cell_type": "code",
      "source": [
        "classes = ['airplane', 'automobile', 'bird', 'cat', 'deer', 'dog', 'frog', 'horse', 'ship', 'truck']"
      ],
      "metadata": {
        "id": "knm_qXF8vmmN"
      },
      "execution_count": null,
      "outputs": []
    },
    {
      "cell_type": "code",
      "source": [
        "def plot_sample(X, y, index):\n",
        "  plt.figure(figsize=(15, 2))\n",
        "  plt.imshow(X[index])\n",
        "  plt.xlabel(classes[y[index]])"
      ],
      "metadata": {
        "id": "Lqf7qFmMvHTN"
      },
      "execution_count": null,
      "outputs": []
    },
    {
      "cell_type": "code",
      "source": [
        "plot_sample(X_train, y_train, 0)"
      ],
      "metadata": {
        "colab": {
          "base_uri": "https://localhost:8080/",
          "height": 173
        },
        "id": "AahMDHa2wdgG",
        "outputId": "1351dd62-e12d-4dd6-cb67-0a4025ad3c81"
      },
      "execution_count": null,
      "outputs": [
        {
          "output_type": "display_data",
          "data": {
            "image/png": "[encoded data removed]",
            "text/plain": [
              "<Figure size 1080x144 with 1 Axes>"
            ]
          },
          "metadata": {
            "needs_background": "light"
          }
        }
      ]
    },
    {
      "cell_type": "code",
      "source": [
        "#Normalizing\n",
        "X_train = X_train / 255\n",
        "X_test = X_test / 255"
      ],
      "metadata": {
        "id": "wW48hPzTwkEG"
      },
      "execution_count": null,
      "outputs": []
    },
    {
      "cell_type": "markdown",
      "source": [
        "## Build simple artificial neural network for image classification"
      ],
      "metadata": {
        "id": "qCwgw_t5xqZ1"
      }
    },
    {
      "cell_type": "code",
      "source": [
        "ann = models.Sequential([\n",
        "        layers.Flatten(input_shape=(32,32,3)),\n",
        "        layers.Dense(3000, activation='relu'),\n",
        "        layers.Dense(1000, activation='relu'),\n",
        "        layers.Dense(10, activation='softmax')    \n",
        "    ])\n",
        "\n",
        "ann.compile(optimizer='SGD',\n",
        "              loss='sparse_categorical_crossentropy', # We use sparse_categorical_crossentropy when y = value and not one hot encoded\n",
        "              metrics=['accuracy'])\n",
        "\n",
        "ann.fit(X_train, y_train, epochs=5)"
      ],
      "metadata": {
        "colab": {
          "base_uri": "https://localhost:8080/"
        },
        "id": "P3DDcYVNw6Bu",
        "outputId": "9cacd8a8-53cf-438f-ab22-a1f8fd6fb17c"
      },
      "execution_count": null,
      "outputs": [
        {
          "output_type": "stream",
          "name": "stdout",
          "text": [
            "Epoch 1/5\n",
            "1563/1563 [==============================] - 102s 65ms/step - loss: 1.8116 - accuracy: 0.3545\n",
            "Epoch 2/5\n",
            "1563/1563 [==============================] - 100s 64ms/step - loss: 1.6263 - accuracy: 0.4268\n",
            "Epoch 3/5\n",
            "1563/1563 [==============================] - 100s 64ms/step - loss: 1.5418 - accuracy: 0.4550\n",
            "Epoch 4/5\n",
            "1563/1563 [==============================] - 100s 64ms/step - loss: 1.4823 - accuracy: 0.4765\n",
            "Epoch 5/5\n",
            "1563/1563 [==============================] - 100s 64ms/step - loss: 1.4340 - accuracy: 0.4954\n"
          ]
        },
        {
          "output_type": "execute_result",
          "data": {
            "text/plain": [
              "<keras.callbacks.History at 0x7f16b9e88e10>"
            ]
          },
          "metadata": {},
          "execution_count": 29
        }
      ]
    },
    {
      "cell_type": "code",
      "source": [
        "ann.evaluate(X_test, y_test)"
      ],
      "metadata": {
        "colab": {
          "base_uri": "https://localhost:8080/"
        },
        "id": "keqLas6_x0sw",
        "outputId": "5fba1875-8ca9-4a27-bcb9-3365d5b26fd7"
      },
      "execution_count": null,
      "outputs": [
        {
          "output_type": "stream",
          "name": "stdout",
          "text": [
            "313/313 [==============================] - 8s 25ms/step - loss: 1.4622 - accuracy: 0.4815\n"
          ]
        },
        {
          "output_type": "execute_result",
          "data": {
            "text/plain": [
              "[1.462199091911316, 0.4814999997615814]"
            ]
          },
          "metadata": {},
          "execution_count": 30
        }
      ]
    },
    {
      "cell_type": "code",
      "source": [
        "from sklearn.metrics import confusion_matrix, classification_report\n",
        "\n",
        "y_pred = ann.predict(X_test)\n",
        "y_pred_classes = [np.argmax(element) for element in y_pred]\n",
        "\n",
        "print(\"Classification Report: \", classification_report(y_test, y_pred_classes))"
      ],
      "metadata": {
        "colab": {
          "base_uri": "https://localhost:8080/"
        },
        "id": "XGShmDGk0QRH",
        "outputId": "28c07e70-8d07-437b-f669-6198521c19b9"
      },
      "execution_count": null,
      "outputs": [
        {
          "output_type": "stream",
          "name": "stdout",
          "text": [
            "Classification Report:                precision    recall  f1-score   support\n",
            "\n",
            "           0       0.51      0.55      0.53      1000\n",
            "           1       0.47      0.77      0.59      1000\n",
            "           2       0.42      0.29      0.34      1000\n",
            "           3       0.36      0.34      0.35      1000\n",
            "           4       0.42      0.42      0.42      1000\n",
            "           5       0.46      0.30      0.36      1000\n",
            "           6       0.55      0.52      0.53      1000\n",
            "           7       0.55      0.57      0.56      1000\n",
            "           8       0.47      0.74      0.58      1000\n",
            "           9       0.67      0.33      0.44      1000\n",
            "\n",
            "    accuracy                           0.48     10000\n",
            "   macro avg       0.49      0.48      0.47     10000\n",
            "weighted avg       0.49      0.48      0.47     10000\n",
            "\n"
          ]
        }
      ]
    },
    {
      "cell_type": "markdown",
      "source": [
        "## Building a CNN to perform the image classification"
      ],
      "metadata": {
        "id": "vICX5AE101in"
      }
    },
    {
      "cell_type": "code",
      "source": [
        "cnn = models.Sequential([\n",
        "        #CNN\n",
        "        layers.Conv2D(filters = 32, kernel_size = (3, 3), activation='relu', input_shape = (32, 32, 3)),\n",
        "        layers.MaxPooling2D((2, 2)),\n",
        "\n",
        "        layers.Conv2D(filters = 32, kernel_size = (3, 3), activation='relu', input_shape = (32, 32, 3)),\n",
        "        layers.MaxPooling2D((2, 2)),\n",
        "          \n",
        "        #Dense\n",
        "        layers.Flatten(),\n",
        "        layers.Dense(64, activation='relu'),\n",
        "        layers.Dense(10, activation='softmax')    \n",
        "    ])\n"
      ],
      "metadata": {
        "id": "hDBiQu9-1GPW"
      },
      "execution_count": null,
      "outputs": []
    },
    {
      "cell_type": "code",
      "source": [
        "cnn.compile(optimizer= 'adam',\n",
        "            loss = 'sparse_categorical_crossentropy',\n",
        "            metrics = ['accuracy'])"
      ],
      "metadata": {
        "id": "M768CN0k2lB3"
      },
      "execution_count": null,
      "outputs": []
    },
    {
      "cell_type": "code",
      "source": [
        "cnn.fit(X_train, y_train, epochs = 10)"
      ],
      "metadata": {
        "colab": {
          "base_uri": "https://localhost:8080/"
        },
        "id": "ep-LL-qH2zlg",
        "outputId": "d8c222dd-7c3b-45a0-92c1-68f40d5f3a82"
      },
      "execution_count": null,
      "outputs": [
        {
          "output_type": "stream",
          "name": "stdout",
          "text": [
            "Epoch 1/10\n",
            "1563/1563 [==============================] - 52s 33ms/step - loss: 1.5120 - accuracy: 0.4531\n",
            "Epoch 2/10\n",
            "1563/1563 [==============================] - 51s 33ms/step - loss: 1.1662 - accuracy: 0.5911\n",
            "Epoch 3/10\n",
            "1563/1563 [==============================] - 51s 33ms/step - loss: 1.0360 - accuracy: 0.6376\n",
            "Epoch 4/10\n",
            "1563/1563 [==============================] - 51s 33ms/step - loss: 0.9548 - accuracy: 0.6663\n",
            "Epoch 5/10\n",
            "1563/1563 [==============================] - 52s 33ms/step - loss: 0.8924 - accuracy: 0.6897\n",
            "Epoch 6/10\n",
            "1563/1563 [==============================] - 52s 33ms/step - loss: 0.8427 - accuracy: 0.7051\n",
            "Epoch 7/10\n",
            "1563/1563 [==============================] - 52s 33ms/step - loss: 0.7945 - accuracy: 0.7217\n",
            "Epoch 8/10\n",
            "1563/1563 [==============================] - 52s 33ms/step - loss: 0.7564 - accuracy: 0.7360\n",
            "Epoch 9/10\n",
            "1563/1563 [==============================] - 52s 33ms/step - loss: 0.7191 - accuracy: 0.7488\n",
            "Epoch 10/10\n",
            "1563/1563 [==============================] - 52s 33ms/step - loss: 0.6880 - accuracy: 0.7590\n"
          ]
        },
        {
          "output_type": "execute_result",
          "data": {
            "text/plain": [
              "<keras.callbacks.History at 0x7f16b907b1d0>"
            ]
          },
          "metadata": {},
          "execution_count": 34
        }
      ]
    },
    {
      "cell_type": "code",
      "source": [
        "cnn.evaluate(X_test, y_test)"
      ],
      "metadata": {
        "id": "Bhre9iBK282-",
        "colab": {
          "base_uri": "https://localhost:8080/"
        },
        "outputId": "4398e9b1-b912-424e-a9c3-78f787530311"
      },
      "execution_count": null,
      "outputs": [
        {
          "output_type": "stream",
          "name": "stdout",
          "text": [
            "313/313 [==============================] - 3s 11ms/step - loss: 0.9420 - accuracy: 0.6835\n"
          ]
        },
        {
          "output_type": "execute_result",
          "data": {
            "text/plain": [
              "[0.9420022368431091, 0.6834999918937683]"
            ]
          },
          "metadata": {},
          "execution_count": 35
        }
      ]
    },
    {
      "cell_type": "code",
      "source": [
        "y_test = y_test.reshape(-1, )\n",
        "plot_sample(X_test, y_test, 1)"
      ],
      "metadata": {
        "colab": {
          "base_uri": "https://localhost:8080/",
          "height": 173
        },
        "id": "OgpQP4Anixsb",
        "outputId": "0f326fc9-a4ae-4e35-fabb-2cfd6a3af614"
      },
      "execution_count": null,
      "outputs": [
        {
          "output_type": "display_data",
          "data": {
            "image/png": "[encoded data removed]",
            "text/plain": [
              "<Figure size 1080x144 with 1 Axes>"
            ]
          },
          "metadata": {
            "needs_background": "light"
          }
        }
      ]
    },
    {
      "cell_type": "code",
      "source": [
        "y_pred = cnn.predict(X_test)\n",
        "y_pred[:5]"
      ],
      "metadata": {
        "colab": {
          "base_uri": "https://localhost:8080/"
        },
        "id": "ONY5jvfqjHRw",
        "outputId": "fbda4b11-0986-4d06-d3bd-3ae884ce2438"
      },
      "execution_count": null,
      "outputs": [
        {
          "output_type": "execute_result",
          "data": {
            "text/plain": [
              "array([[4.40163945e-04, 1.51293225e-05, 3.75815458e-03, 5.93814909e-01,\n",
              "        2.64339126e-03, 1.93781883e-01, 2.04644650e-01, 6.09474257e-04,\n",
              "        1.73268490e-04, 1.19049015e-04],\n",
              "       [1.21636223e-03, 9.25625712e-02, 2.80494334e-07, 1.96270253e-06,\n",
              "        8.90740708e-08, 2.46686849e-08, 8.09151359e-08, 9.49962065e-09,\n",
              "        9.04714108e-01, 1.50452356e-03],\n",
              "       [2.26359926e-02, 7.83090413e-01, 1.20510126e-03, 3.07305367e-03,\n",
              "        4.77311376e-04, 5.13749546e-04, 8.74672900e-04, 1.47778599e-03,\n",
              "        1.64255381e-01, 2.23965757e-02],\n",
              "       [6.99805975e-01, 2.14952175e-02, 6.65357485e-02, 2.82193045e-03,\n",
              "        7.57457642e-03, 3.72524111e-04, 2.10241321e-03, 1.30771135e-04,\n",
              "        1.97461396e-01, 1.69936439e-03],\n",
              "       [2.76396099e-06, 1.37329550e-06, 6.45055156e-03, 1.22824321e-02,\n",
              "        8.78442466e-01, 1.38412463e-02, 8.89067277e-02, 7.06255669e-05,\n",
              "        1.80943209e-06, 9.13719873e-08]], dtype=float32)"
            ]
          },
          "metadata": {},
          "execution_count": 37
        }
      ]
    },
    {
      "cell_type": "code",
      "source": [
        "y_classes = [np.argmax(element) for element in y_pred]"
      ],
      "metadata": {
        "id": "KiZIlqf2jTz4"
      },
      "execution_count": null,
      "outputs": []
    },
    {
      "cell_type": "code",
      "source": [
        "classes[y_classes[0]]"
      ],
      "metadata": {
        "colab": {
          "base_uri": "https://localhost:8080/",
          "height": 37
        },
        "id": "H54ijSW3jpqu",
        "outputId": "0688f2d9-bbd0-4faa-d949-bb5e5b39bc8b"
      },
      "execution_count": null,
      "outputs": [
        {
          "output_type": "execute_result",
          "data": {
            "application/vnd.google.colaboratory.intrinsic+json": {
              "type": "string"
            },
            "text/plain": [
              "'cat'"
            ]
          },
          "metadata": {},
          "execution_count": 39
        }
      ]
    },
    {
      "cell_type": "code",
      "source": [
        "print(\"Classification Report: \", y_classes)"
      ],
      "metadata": {
        "id": "IF9G0K05j1uV",
        "colab": {
          "base_uri": "https://localhost:8080/",
          "height": 164
        },
        "outputId": "0e9caef2-fbca-4360-9898-1beb6cf7192e"
      },
      "execution_count": null,
      "outputs": [
        {
          "output_type": "error",
          "ename": "NameError",
          "evalue": "ignored",
          "traceback": [
            "\u001b[0;31m---------------------------------------------------------------------------\u001b[0m",
            "\u001b[0;31mNameError\u001b[0m                                 Traceback (most recent call last)",
            "\u001b[0;32m<ipython-input-1-24f7ec148931>\u001b[0m in \u001b[0;36m<module>\u001b[0;34m()\u001b[0m\n\u001b[0;32m----> 1\u001b[0;31m \u001b[0mprint\u001b[0m\u001b[0;34m(\u001b[0m\u001b[0;34m\"Classification Report: \"\u001b[0m\u001b[0;34m,\u001b[0m \u001b[0my_classes\u001b[0m\u001b[0;34m)\u001b[0m\u001b[0;34m\u001b[0m\u001b[0;34m\u001b[0m\u001b[0m\n\u001b[0m",
            "\u001b[0;31mNameError\u001b[0m: name 'y_classes' is not defined"
          ]
        }
      ]
    },
    {
      "cell_type": "code",
      "source": [
        ""
      ],
      "metadata": {
        "id": "uis1qLETb0QX"
      },
      "execution_count": null,
      "outputs": []
    }
  ]
}